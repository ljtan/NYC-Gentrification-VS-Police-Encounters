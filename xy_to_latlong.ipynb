{
 "cells": [
  {
   "cell_type": "markdown",
   "metadata": {},
   "source": [
    "# This notebook is used to create the xy_zipcode_2013to2019.csv"
   ]
  },
  {
   "cell_type": "code",
   "execution_count": null,
   "metadata": {},
   "outputs": [],
   "source": [
    "import pycrs\n",
    "import pyproj\n",
    "from functools import lru_cache\n",
    "\n",
    "#set formats\n",
    "from_crs = pycrs.parse.from_epsg_code(102718).to_proj4() # original xy format\n",
    "to_crs=pycrs.parse.from_epsg_code(4326).to_proj4() #normal lat/long format\n",
    "\n",
    "#create projects from formats\n",
    "fromproj = pyproj.Proj(from_crs)\n",
    "toproj = pyproj.Proj(to_crs)\n",
    "\n",
    "@lru_cache()\n",
    "def xy_to_latlong(x,y):\n",
    "    # transform the formats\n",
    "    long,lat=pyproj.transform(fromproj, toproj, x,y) #note output is long, lat, instead of lat, long\n",
    "    return (lat,long) #switched back to lat,long"
   ]
  },
  {
   "cell_type": "code",
   "execution_count": null,
   "metadata": {},
   "outputs": [],
   "source": [
    "import fiona\n",
    "import shapely.geometry\n",
    "\n",
    "#read the geojson file and returns a list of shapes (zip codes)\n",
    "def read_geojson(path):\n",
    "    with fiona.open(path) as fiona_collection:\n",
    "        shapes=[] # stores a collection of shapes (zip codes)\n",
    "        for i in fiona_collection:\n",
    "            shapefile_record = i \n",
    "\n",
    "            # Use Shapely to create the polygon\n",
    "            shape = shapely.geometry.asShape(shapefile_record['geometry'] )\n",
    "            \n",
    "            shapes.append((shape,i))\n",
    "    return shapes\n",
    "\n",
    "#get the list of shapes\n",
    "shapes=read_geojson('zipcodes.geojson')\n",
    "\n",
    "@lru_cache()\n",
    "def latlong_to_zipcode(coord):\n",
    "    lat,long=coord #unpack\n",
    "    \n",
    "    #go through each shape\n",
    "    for shape,i in shapes:\n",
    "        #creat point from long/lat\n",
    "        point = shapely.geometry.Point(long,lat) # note this is (longitude, latitude) not (latitude, longitude)\n",
    "        \n",
    "        if shape.contains(point):\n",
    "            return (i['properties']['postalCode']) #zip code "
   ]
  },
  {
   "cell_type": "code",
   "execution_count": null,
   "metadata": {},
   "outputs": [],
   "source": [
    "@lru_cache()\n",
    "def xy_to_zipcode(x,y):\n",
    "    return latlong_to_zipcode(xy_to_latlong(x,y))"
   ]
  },
  {
   "cell_type": "code",
   "execution_count": null,
   "metadata": {},
   "outputs": [],
   "source": [
    "# get the x and y coordinates and drop null or duplicates\n",
    "df_xy=df.loc[:,['x','y']]\n",
    "df_xy.dropna(inplace=True)\n",
    "df_xy=df_xy.drop_duplicates()\n",
    "\n",
    "#convert xy to into \n",
    "df_xy['x']=df_xy['x'].astype(int)\n",
    "df_xy['y']=df_xy['y'].astype(int)\n",
    "\n",
    "#get the zip codes of each xy coordinate and store in a dataframe\n",
    "zipcode=df_xy.apply(lambda k: xy_to_zipcode(k.x, k.y), axis=1)\n",
    "df_zipcode=pd.DataFrame(zipcode)\n",
    "\n",
    "#merge the xy with zip code\n",
    "df_zipcode=df_zipcode.merge(df_xy, left_index=True, right_index=True, how='inner')\n",
    "df_zipcode.rename(columns={0:'zipcode'}, inplace=True)\n",
    "\n",
    "#save the xy to zip code mapping in a csv file\n",
    "df_zipcode.to_csv('data/xy_zipcode_2013to2019.csv')\n",
    "\n",
    "df_zipcode"
   ]
  },
  {
   "cell_type": "code",
   "execution_count": null,
   "metadata": {},
   "outputs": [],
   "source": []
  }
 ],
 "metadata": {
  "kernelspec": {
   "display_name": "Python 3",
   "language": "python",
   "name": "python3"
  },
  "language_info": {
   "codemirror_mode": {
    "name": "ipython",
    "version": 3
   },
   "file_extension": ".py",
   "mimetype": "text/x-python",
   "name": "python",
   "nbconvert_exporter": "python",
   "pygments_lexer": "ipython3",
   "version": "3.8.5"
  }
 },
 "nbformat": 4,
 "nbformat_minor": 4
}
